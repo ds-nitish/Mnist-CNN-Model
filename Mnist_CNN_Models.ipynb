{
  "nbformat": 4,
  "nbformat_minor": 0,
  "metadata": {
    "colab": {
      "provenance": [],
      "gpuType": "T4"
    },
    "kernelspec": {
      "name": "python3",
      "display_name": "Python 3"
    },
    "language_info": {
      "name": "python"
    },
    "accelerator": "GPU",
    "gpuClass": "standard"
  },
  "cells": [
    {
      "cell_type": "code",
      "execution_count": 1,
      "metadata": {
        "id": "La7TAfGAAPw9"
      },
      "outputs": [],
      "source": [
        "import pandas as pd\n",
        "import numpy as np\n",
        "import matplotlib.pyplot as plt\n",
        "import seaborn as sns"
      ]
    },
    {
      "cell_type": "code",
      "source": [
        "from keras.datasets import mnist"
      ],
      "metadata": {
        "id": "wD8v8oT3BBLq"
      },
      "execution_count": 2,
      "outputs": []
    },
    {
      "cell_type": "code",
      "source": [
        "(x_train , y_train),(x_test,y_test) = mnist.load_data()"
      ],
      "metadata": {
        "id": "Df1VmZPZCfcl",
        "colab": {
          "base_uri": "https://localhost:8080/"
        },
        "outputId": "2d0709bb-7ce1-4bd6-fe48-b0504a4d6707"
      },
      "execution_count": 3,
      "outputs": [
        {
          "output_type": "stream",
          "name": "stdout",
          "text": [
            "Downloading data from https://storage.googleapis.com/tensorflow/tf-keras-datasets/mnist.npz\n",
            "11490434/11490434 [==============================] - 2s 0us/step\n"
          ]
        }
      ]
    },
    {
      "cell_type": "code",
      "source": [
        "type(x_train)"
      ],
      "metadata": {
        "colab": {
          "base_uri": "https://localhost:8080/"
        },
        "id": "Wt6QfcyYDb07",
        "outputId": "c89b7431-616c-40fc-8729-80fd285948f8"
      },
      "execution_count": 4,
      "outputs": [
        {
          "output_type": "execute_result",
          "data": {
            "text/plain": [
              "numpy.ndarray"
            ]
          },
          "metadata": {},
          "execution_count": 4
        }
      ]
    },
    {
      "cell_type": "code",
      "source": [
        "x_train = x_train/255"
      ],
      "metadata": {
        "id": "gY76IBQFDe5Y"
      },
      "execution_count": 5,
      "outputs": []
    },
    {
      "cell_type": "code",
      "source": [
        "x_train = x_train.reshape(len(x_train),28,28,1)"
      ],
      "metadata": {
        "id": "MWT_gCtgDyPR"
      },
      "execution_count": 6,
      "outputs": []
    },
    {
      "cell_type": "code",
      "source": [
        "x_test = x_test/255\n",
        "x_test = x_test.reshape(len(x_test),28,28,1)\n",
        "y_train = y_train.reshape(-1,1)\n",
        "y_test = y_test.reshape(-1,1)"
      ],
      "metadata": {
        "id": "CbYN432_EnGS"
      },
      "execution_count": 7,
      "outputs": []
    },
    {
      "cell_type": "code",
      "source": [
        "from sklearn.preprocessing import OneHotEncoder\n",
        "ohe = OneHotEncoder()\n",
        "y_train = ohe.fit_transform(y_train).toarray()"
      ],
      "metadata": {
        "id": "VqrFNVzMFiZj"
      },
      "execution_count": 8,
      "outputs": []
    },
    {
      "cell_type": "code",
      "source": [
        "y_train"
      ],
      "metadata": {
        "colab": {
          "base_uri": "https://localhost:8080/"
        },
        "id": "IPZsnumRForC",
        "outputId": "77663523-12f4-4165-8617-9ec508d63101"
      },
      "execution_count": 9,
      "outputs": [
        {
          "output_type": "execute_result",
          "data": {
            "text/plain": [
              "array([[0., 0., 0., ..., 0., 0., 0.],\n",
              "       [1., 0., 0., ..., 0., 0., 0.],\n",
              "       [0., 0., 0., ..., 0., 0., 0.],\n",
              "       ...,\n",
              "       [0., 0., 0., ..., 0., 0., 0.],\n",
              "       [0., 0., 0., ..., 0., 0., 0.],\n",
              "       [0., 0., 0., ..., 0., 1., 0.]])"
            ]
          },
          "metadata": {},
          "execution_count": 9
        }
      ]
    },
    {
      "cell_type": "code",
      "source": [
        "y_test = ohe.transform(y_test).toarray()"
      ],
      "metadata": {
        "id": "bb4ittMdGA1M"
      },
      "execution_count": 10,
      "outputs": []
    },
    {
      "cell_type": "code",
      "source": [
        "y_test.shape"
      ],
      "metadata": {
        "colab": {
          "base_uri": "https://localhost:8080/"
        },
        "id": "SjEHUyllHVuJ",
        "outputId": "0f8c8934-c236-409e-ea8e-75539735d15a"
      },
      "execution_count": 11,
      "outputs": [
        {
          "output_type": "execute_result",
          "data": {
            "text/plain": [
              "(10000, 10)"
            ]
          },
          "metadata": {},
          "execution_count": 11
        }
      ]
    },
    {
      "cell_type": "code",
      "source": [
        "x =3333\n",
        "pixel = x_train[x,:,:,:].reshape(28,28)\n",
        "plt.imshow(pixel,cmap = 'gray')\n",
        "plt.show()\n",
        "print(f'-----------',np.argmax(y_train[x]),'--------------')"
      ],
      "metadata": {
        "colab": {
          "base_uri": "https://localhost:8080/",
          "height": 448
        },
        "id": "un6DyznfJGCw",
        "outputId": "652c9884-c864-46b5-a438-90d68e77e544"
      },
      "execution_count": 12,
      "outputs": [
        {
          "output_type": "display_data",
          "data": {
            "text/plain": [
              "<Figure size 640x480 with 1 Axes>"
            ],
            "image/png": "[encoded data removed]"
          },
          "metadata": {}
        },
        {
          "output_type": "stream",
          "name": "stdout",
          "text": [
            "----------- 2 --------------\n"
          ]
        }
      ]
    },
    {
      "cell_type": "code",
      "source": [
        "import tensorflow.keras as keras\n",
        "from keras.layers import Dense , Dropout , Conv2D , MaxPooling2D, Flatten\n",
        "from keras.models import Sequential"
      ],
      "metadata": {
        "id": "XnF8VbqfJTHy"
      },
      "execution_count": 13,
      "outputs": []
    },
    {
      "cell_type": "code",
      "source": [
        "model = Sequential()"
      ],
      "metadata": {
        "id": "PKNdwkYLML6S"
      },
      "execution_count": 14,
      "outputs": []
    },
    {
      "cell_type": "code",
      "source": [
        "\n",
        "model.add(Conv2D(40,kernel_size = (5,5),padding = 'same',input_shape= (28,28,1) , activation='relu'))\n",
        "model.add(MaxPooling2D(pool_size =(2,2)))\n",
        "model.add(Conv2D(40,kernel_size =(5,5),padding = 'same', activation='relu'))\n",
        "model.add(MaxPooling2D(pool_size =(2,2)))\n",
        "model.add(Conv2D(40,(5,5),padding = 'same', activation='relu'))\n",
        "model.add(MaxPooling2D(pool_size =(2,2)))\n",
        "model.add(Flatten())\n",
        "model.add(Dense(units = 50 , activation ='relu' , kernel_initializer ='he_uniform'))\n",
        "model.add(Dropout(0.2))\n",
        "model.add(Dense(units = 30 , activation ='relu' , kernel_initializer ='he_uniform'))\n",
        "model.add(Dropout(0.2))\n",
        "model.add(Dense(units = 10 , activation ='softmax' ))\n",
        "model.compile(optimizer ='adam', loss ='categorical_crossentropy' , metrics =['accuracy'])\n"
      ],
      "metadata": {
        "id": "1oD7eC61MZoB"
      },
      "execution_count": 15,
      "outputs": []
    },
    {
      "cell_type": "code",
      "source": [
        "model.summary()"
      ],
      "metadata": {
        "colab": {
          "base_uri": "https://localhost:8080/"
        },
        "id": "NlHEH5XrPUP4",
        "outputId": "e72e0845-7179-49ee-eb8c-070adf20160f"
      },
      "execution_count": 16,
      "outputs": [
        {
          "output_type": "stream",
          "name": "stdout",
          "text": [
            "Model: \"sequential\"\n",
            "_________________________________________________________________\n",
            " Layer (type)                Output Shape              Param #   \n",
            "=================================================================\n",
            " conv2d (Conv2D)             (None, 28, 28, 40)        1040      \n",
            "                                                                 \n",
            " max_pooling2d (MaxPooling2D  (None, 14, 14, 40)       0         \n",
            " )                                                               \n",
            "                                                                 \n",
            " conv2d_1 (Conv2D)           (None, 14, 14, 40)        40040     \n",
            "                                                                 \n",
            " max_pooling2d_1 (MaxPooling  (None, 7, 7, 40)         0         \n",
            " 2D)                                                             \n",
            "                                                                 \n",
            " conv2d_2 (Conv2D)           (None, 7, 7, 40)          40040     \n",
            "                                                                 \n",
            " max_pooling2d_2 (MaxPooling  (None, 3, 3, 40)         0         \n",
            " 2D)                                                             \n",
            "                                                                 \n",
            " flatten (Flatten)           (None, 360)               0         \n",
            "                                                                 \n",
            " dense (Dense)               (None, 50)                18050     \n",
            "                                                                 \n",
            " dropout (Dropout)           (None, 50)                0         \n",
            "                                                                 \n",
            " dense_1 (Dense)             (None, 30)                1530      \n",
            "                                                                 \n",
            " dropout_1 (Dropout)         (None, 30)                0         \n",
            "                                                                 \n",
            " dense_2 (Dense)             (None, 10)                310       \n",
            "                                                                 \n",
            "=================================================================\n",
            "Total params: 101,010\n",
            "Trainable params: 101,010\n",
            "Non-trainable params: 0\n",
            "_________________________________________________________________\n"
          ]
        }
      ]
    },
    {
      "cell_type": "code",
      "source": [
        "model.fit(x_train , y_train , epochs =20 , batch_size = 30 , validation_data =(x_test , y_test))"
      ],
      "metadata": {
        "colab": {
          "base_uri": "https://localhost:8080/"
        },
        "id": "PpFP3CsnR-Bb",
        "outputId": "79dc0cef-13cb-40bb-96c6-a0ab1bd25cd0"
      },
      "execution_count": 17,
      "outputs": [
        {
          "output_type": "stream",
          "name": "stdout",
          "text": [
            "Epoch 1/20\n",
            "2000/2000 [==============================] - 30s 6ms/step - loss: 0.2504 - accuracy: 0.9224 - val_loss: 0.0447 - val_accuracy: 0.9853\n",
            "Epoch 2/20\n",
            "2000/2000 [==============================] - 11s 5ms/step - loss: 0.0771 - accuracy: 0.9796 - val_loss: 0.0381 - val_accuracy: 0.9894\n",
            "Epoch 3/20\n",
            "2000/2000 [==============================] - 10s 5ms/step - loss: 0.0577 - accuracy: 0.9853 - val_loss: 0.0316 - val_accuracy: 0.9913\n",
            "Epoch 4/20\n",
            "2000/2000 [==============================] - 11s 6ms/step - loss: 0.0437 - accuracy: 0.9886 - val_loss: 0.0347 - val_accuracy: 0.9901\n",
            "Epoch 5/20\n",
            "2000/2000 [==============================] - 11s 6ms/step - loss: 0.0381 - accuracy: 0.9901 - val_loss: 0.0423 - val_accuracy: 0.9895\n",
            "Epoch 6/20\n",
            "2000/2000 [==============================] - 11s 6ms/step - loss: 0.0343 - accuracy: 0.9913 - val_loss: 0.0317 - val_accuracy: 0.9916\n",
            "Epoch 7/20\n",
            "2000/2000 [==============================] - 12s 6ms/step - loss: 0.0272 - accuracy: 0.9928 - val_loss: 0.0345 - val_accuracy: 0.9926\n",
            "Epoch 8/20\n",
            "2000/2000 [==============================] - 11s 6ms/step - loss: 0.0255 - accuracy: 0.9933 - val_loss: 0.0371 - val_accuracy: 0.9917\n",
            "Epoch 9/20\n",
            "2000/2000 [==============================] - 11s 6ms/step - loss: 0.0224 - accuracy: 0.9939 - val_loss: 0.0341 - val_accuracy: 0.9936\n",
            "Epoch 10/20\n",
            "2000/2000 [==============================] - 11s 6ms/step - loss: 0.0222 - accuracy: 0.9943 - val_loss: 0.0334 - val_accuracy: 0.9914\n",
            "Epoch 11/20\n",
            "2000/2000 [==============================] - 10s 5ms/step - loss: 0.0174 - accuracy: 0.9953 - val_loss: 0.0311 - val_accuracy: 0.9945\n",
            "Epoch 12/20\n",
            "2000/2000 [==============================] - 11s 5ms/step - loss: 0.0167 - accuracy: 0.9955 - val_loss: 0.0437 - val_accuracy: 0.9910\n",
            "Epoch 13/20\n",
            "2000/2000 [==============================] - 11s 6ms/step - loss: 0.0176 - accuracy: 0.9955 - val_loss: 0.0394 - val_accuracy: 0.9923\n",
            "Epoch 14/20\n",
            "2000/2000 [==============================] - 11s 6ms/step - loss: 0.0171 - accuracy: 0.9956 - val_loss: 0.0337 - val_accuracy: 0.9927\n",
            "Epoch 15/20\n",
            "2000/2000 [==============================] - 11s 6ms/step - loss: 0.0142 - accuracy: 0.9965 - val_loss: 0.0508 - val_accuracy: 0.9926\n",
            "Epoch 16/20\n",
            "2000/2000 [==============================] - 11s 5ms/step - loss: 0.0157 - accuracy: 0.9957 - val_loss: 0.0395 - val_accuracy: 0.9921\n",
            "Epoch 17/20\n",
            "2000/2000 [==============================] - 11s 6ms/step - loss: 0.0133 - accuracy: 0.9966 - val_loss: 0.0352 - val_accuracy: 0.9923\n",
            "Epoch 18/20\n",
            "2000/2000 [==============================] - 11s 5ms/step - loss: 0.0124 - accuracy: 0.9965 - val_loss: 0.0432 - val_accuracy: 0.9930\n",
            "Epoch 19/20\n",
            "2000/2000 [==============================] - 11s 5ms/step - loss: 0.0121 - accuracy: 0.9969 - val_loss: 0.0458 - val_accuracy: 0.9918\n",
            "Epoch 20/20\n",
            "2000/2000 [==============================] - 11s 5ms/step - loss: 0.0136 - accuracy: 0.9966 - val_loss: 0.0340 - val_accuracy: 0.9938\n"
          ]
        },
        {
          "output_type": "execute_result",
          "data": {
            "text/plain": [
              "<keras.callbacks.History at 0x7fa88d3fd090>"
            ]
          },
          "metadata": {},
          "execution_count": 17
        }
      ]
    },
    {
      "cell_type": "code",
      "source": [
        "y_pred = model.predict(x_test)"
      ],
      "metadata": {
        "id": "yl2jEqMLbSfJ",
        "colab": {
          "base_uri": "https://localhost:8080/"
        },
        "outputId": "729c1629-7a93-4025-e322-9719852a1b74"
      },
      "execution_count": 18,
      "outputs": [
        {
          "output_type": "stream",
          "name": "stdout",
          "text": [
            "313/313 [==============================] - 1s 3ms/step\n"
          ]
        }
      ]
    },
    {
      "cell_type": "code",
      "source": [
        "x =3333\n",
        "pixel = x_test[x,:,:,:].reshape(28,28)\n",
        "plt.imshow(pixel,cmap = 'gray')\n",
        "plt.show()\n",
        "print(f'Predicted-------->',np.argmax(y_pred[x]))\n",
        "print(f'Actual----------->',np.argmax(y_test[x]),)"
      ],
      "metadata": {
        "id": "97g1KyX0ZLTy",
        "colab": {
          "base_uri": "https://localhost:8080/",
          "height": 466
        },
        "outputId": "475ddc42-d0c4-49fe-cec2-118a915ae5a7"
      },
      "execution_count": 19,
      "outputs": [
        {
          "output_type": "display_data",
          "data": {
            "text/plain": [
              "<Figure size 640x480 with 1 Axes>"
            ],
            "image/png": "[encoded data removed]"
          },
          "metadata": {}
        },
        {
          "output_type": "stream",
          "name": "stdout",
          "text": [
            "Predicted--------> 7\n",
            "Actual-----------> 7\n"
          ]
        }
      ]
    },
    {
      "cell_type": "code",
      "source": [],
      "metadata": {
        "id": "NC_Z3Bb_bCUv"
      },
      "execution_count": 19,
      "outputs": []
    }
  ]
}